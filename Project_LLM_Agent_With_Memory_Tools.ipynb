{
 "cells": [
  {
   "cell_type": "code",
   "execution_count": 1,
   "metadata": {},
   "outputs": [
    {
     "name": "stderr",
     "output_type": "stream",
     "text": [
      "f:\\LangChain Test\\venv\\lib\\site-packages\\langsmith\\client.py:241: LangSmithMissingAPIKeyWarning: API key must be provided when using hosted LangSmith API\n",
      "  warnings.warn(\n"
     ]
    },
    {
     "name": "stdout",
     "output_type": "stream",
     "text": [
      "\n",
      "\n",
      "\u001b[1m> Entering new AgentExecutor chain...\u001b[0m\n",
      "\u001b[32;1m\u001b[1;3mHello Krunal, nice to meet you! How can I assist you today?\u001b[0m\n",
      "\n",
      "\u001b[1m> Finished chain.\u001b[0m\n"
     ]
    },
    {
     "data": {
      "text/plain": [
       "{'input': 'Hi, My Name is Krunal. I live in Surat',\n",
       " 'output': 'Hello Krunal, nice to meet you! How can I assist you today?'}"
      ]
     },
     "execution_count": 1,
     "metadata": {},
     "output_type": "execute_result"
    }
   ],
   "source": [
    "import os\n",
    "from dotenv import load_dotenv\n",
    "from langchain_mistralai import ChatMistralAI\n",
    "from langchain.prompts import ChatPromptTemplate\n",
    "from langchain.schema.output_parser import StrOutputParser\n",
    "load_dotenv()\n",
    "\n",
    "api_key = os.environ.get(\"MISTRAL_API_KEY\")\n",
    "if not api_key:\n",
    "    raise ValueError(\"MISTRAL_API_KEY is not set or could not be loaded!\")\n",
    "\n",
    "model = ChatMistralAI(model=\"mistral-large-latest\", api_key=api_key)\n",
    "\n",
    "import requests\n",
    "from pydantic import BaseModel, Field\n",
    "import datetime\n",
    "\n",
    "from langchain.agents import tool\n",
    "\n",
    "# Define the input schema\n",
    "class OpenMeteoInput(BaseModel):\n",
    "    latitude: float = Field(..., description=\"Latitude of the location to fetch weather data for\")\n",
    "    longitude: float = Field(..., description=\"Longitude of the location to fetch weather data for\")\n",
    "\n",
    "@tool(args_schema=OpenMeteoInput)\n",
    "def get_current_temperature(latitude: float, longitude: float) -> dict:\n",
    "    \"\"\"Fetch current temperature for given coordinates.\"\"\"\n",
    "    \n",
    "    BASE_URL = \"https://api.open-meteo.com/v1/forecast\"\n",
    "    \n",
    "    # Parameters for the request\n",
    "    params = {\n",
    "        'latitude': latitude,\n",
    "        'longitude': longitude,\n",
    "        'hourly': 'temperature_2m',\n",
    "        'forecast_days': 1,\n",
    "    }\n",
    "\n",
    "    # Make the request\n",
    "    response = requests.get(BASE_URL, params=params)\n",
    "    \n",
    "    if response.status_code == 200:\n",
    "        results = response.json()\n",
    "    else:\n",
    "        raise Exception(f\"API Request failed with status code: {response.status_code}\")\n",
    "\n",
    "    current_utc_time = datetime.datetime.utcnow()\n",
    "    time_list = [datetime.datetime.fromisoformat(time_str.replace('Z', '+00:00')) for time_str in results['hourly']['time']]\n",
    "    temperature_list = results['hourly']['temperature_2m']\n",
    "    \n",
    "    closest_time_index = min(range(len(time_list)), key=lambda i: abs(time_list[i] - current_utc_time))\n",
    "    current_temperature = temperature_list[closest_time_index]\n",
    "    \n",
    "    return f'The current temperature is {current_temperature}°C'\n",
    "\n",
    "import wikipedia\n",
    "@tool\n",
    "def search_wikipedia(query: str) -> str:\n",
    "    \"\"\"Run Wikipedia search and get page summaries.\"\"\"\n",
    "    page_titles = wikipedia.search(query)\n",
    "    summaries = []\n",
    "    for page_title in page_titles[: 3]:\n",
    "        try:\n",
    "            wiki_page =  wikipedia.page(title=page_title, auto_suggest=False)\n",
    "            summaries.append(f\"Page: {page_title}\\nSummary: {wiki_page.summary}\")\n",
    "        except (\n",
    "            self.wiki_client.exceptions.PageError,\n",
    "            self.wiki_client.exceptions.DisambiguationError,\n",
    "        ):\n",
    "            pass\n",
    "    if not summaries:\n",
    "        return \"No good Wikipedia Search Result was found\"\n",
    "    return \"\\n\\n\".join(summaries)\n",
    "\n",
    "from langchain.chains.openai_functions.openapi import openapi_spec_to_openai_fn\n",
    "from langchain.utilities.openapi import OpenAPISpec\n",
    "from langchain.tools.render import format_tool_to_openai_tool\n",
    "\n",
    "#creating list of both functions specs.\n",
    "tools = [search_wikipedia, get_current_temperature]\n",
    "\n",
    "from langchain_core.messages import HumanMessage\n",
    "model_with_tools = model.bind_tools(tools)\n",
    "\n",
    "from langchain import hub\n",
    "\n",
    "# Get the prompt to use - you can modify this!\n",
    "prompt = hub.pull(\"hwchase17/openai-functions-agent\")\n",
    "\n",
    "from langchain.agents import create_tool_calling_agent\n",
    "\n",
    "agent = create_tool_calling_agent(model, tools, prompt)\n",
    "\n",
    "from langchain.agents import AgentExecutor\n",
    "\n",
    "agent_executor = AgentExecutor(agent=agent, tools=tools, verbose=True)\n",
    "\n",
    "agent_executor.invoke({\"input\": \"Hi, My Name is Krunal. I live in Surat\"})\n",
    "\n"
   ]
  },
  {
   "cell_type": "code",
   "execution_count": 2,
   "metadata": {},
   "outputs": [
    {
     "name": "stdout",
     "output_type": "stream",
     "text": [
      "\n",
      "\n",
      "\u001b[1m> Entering new AgentExecutor chain...\u001b[0m\n",
      "\u001b[32;1m\u001b[1;3mNo, I do not know your name. Would you like to tell me?\u001b[0m\n",
      "\n",
      "\u001b[1m> Finished chain.\u001b[0m\n"
     ]
    },
    {
     "data": {
      "text/plain": [
       "{'input': 'Do you know my name?',\n",
       " 'output': 'No, I do not know your name. Would you like to tell me?'}"
      ]
     },
     "execution_count": 2,
     "metadata": {},
     "output_type": "execute_result"
    }
   ],
   "source": [
    "agent_executor.invoke({\"input\": \"Do you know my name?\"})"
   ]
  },
  {
   "cell_type": "markdown",
   "metadata": {},
   "source": [
    "# Adding Memory to the Agent"
   ]
  },
  {
   "cell_type": "code",
   "execution_count": 5,
   "metadata": {},
   "outputs": [
    {
     "name": "stdout",
     "output_type": "stream",
     "text": [
      "\n",
      "\n",
      "\u001b[1m> Entering new AgentExecutor chain...\u001b[0m\n",
      "\u001b[32;1m\u001b[1;3mHello Krunal, nice to meet you! How can I assist you today?\u001b[0m\n",
      "\n",
      "\u001b[1m> Finished chain.\u001b[0m\n",
      "\n",
      "\n",
      "\u001b[1m> Entering new AgentExecutor chain...\u001b[0m\n",
      "\u001b[32;1m\u001b[1;3mYour name is Krunal and you live in Surat.\u001b[0m\n",
      "\n",
      "\u001b[1m> Finished chain.\u001b[0m\n"
     ]
    },
    {
     "data": {
      "text/plain": [
       "{'chat_history': [HumanMessage(content='Hi, My Name is Krunal. I live in Surat', additional_kwargs={}, response_metadata={}),\n",
       "  AIMessage(content='Hello Krunal, nice to meet you! How can I assist you today?', additional_kwargs={}, response_metadata={})],\n",
       " 'input': \"what's my name and where do i live?\",\n",
       " 'output': 'Your name is Krunal and you live in Surat.'}"
      ]
     },
     "execution_count": 5,
     "metadata": {},
     "output_type": "execute_result"
    }
   ],
   "source": [
    "agent_executor.invoke({\"input\": \"Hi, My Name is Krunal. I live in Surat\", \"chat_history\": []})\n",
    "from langchain_core.messages import AIMessage, HumanMessage\n",
    "agent_executor.invoke(\n",
    "    {\n",
    "        \"chat_history\": [\n",
    "            HumanMessage(content=\"Hi, My Name is Krunal. I live in Surat\"),\n",
    "            AIMessage(content=\"Hello Krunal, nice to meet you! How can I assist you today?\"),\n",
    "        ],\n",
    "        \"input\": \"what's my name and where do i live?\",\n",
    "    }\n",
    ")"
   ]
  },
  {
   "cell_type": "markdown",
   "metadata": {},
   "source": [
    "> To keep track of these messages automatically, we can wrap this in a \"RunnableWithMessageHistory\"!"
   ]
  },
  {
   "cell_type": "code",
   "execution_count": 9,
   "metadata": {},
   "outputs": [],
   "source": [
    "from langchain_community.chat_message_histories import ChatMessageHistory\n",
    "from langchain_core.chat_history import BaseChatMessageHistory\n",
    "from langchain_core.runnables.history import RunnableWithMessageHistory\n",
    "\n",
    "store = {}\n",
    "\n",
    "\n",
    "def get_session_history(session_id: str) -> BaseChatMessageHistory:\n",
    "    if session_id not in store:\n",
    "        store[session_id] = ChatMessageHistory()\n",
    "    return store[session_id]"
   ]
  },
  {
   "cell_type": "code",
   "execution_count": 10,
   "metadata": {},
   "outputs": [],
   "source": [
    "agent_with_chat_history = RunnableWithMessageHistory(\n",
    "    agent_executor,\n",
    "    get_session_history,\n",
    "    input_messages_key=\"input\", \n",
    "    history_messages_key=\"chat_history\", \n",
    ")"
   ]
  },
  {
   "cell_type": "code",
   "execution_count": 11,
   "metadata": {},
   "outputs": [
    {
     "name": "stdout",
     "output_type": "stream",
     "text": [
      "\n",
      "\n",
      "\u001b[1m> Entering new AgentExecutor chain...\u001b[0m\n",
      "\u001b[32;1m\u001b[1;3mHello Krunal, I'm here to help you. How are you today?\u001b[0m\n",
      "\n",
      "\u001b[1m> Finished chain.\u001b[0m\n"
     ]
    },
    {
     "data": {
      "text/plain": [
       "{'input': 'Hi, My Name is Krunal. I live in Surat',\n",
       " 'chat_history': [],\n",
       " 'output': \"Hello Krunal, I'm here to help you. How are you today?\"}"
      ]
     },
     "execution_count": 11,
     "metadata": {},
     "output_type": "execute_result"
    }
   ],
   "source": [
    "agent_with_chat_history.invoke(\n",
    "    {\"input\": \"Hi, My Name is Krunal. I live in Surat\"},\n",
    "    config={\"configurable\": {\"session_id\": \"<foo>\"}},\n",
    ")"
   ]
  },
  {
   "cell_type": "code",
   "execution_count": 12,
   "metadata": {},
   "outputs": [
    {
     "name": "stdout",
     "output_type": "stream",
     "text": [
      "\n",
      "\n",
      "\u001b[1m> Entering new AgentExecutor chain...\u001b[0m\n",
      "\u001b[32;1m\u001b[1;3mYour name is Krunal and you live in Surat.\u001b[0m\n",
      "\n",
      "\u001b[1m> Finished chain.\u001b[0m\n"
     ]
    },
    {
     "data": {
      "text/plain": [
       "{'input': \"what's my name and where do i live?\",\n",
       " 'chat_history': [HumanMessage(content='Hi, My Name is Krunal. I live in Surat', additional_kwargs={}, response_metadata={}),\n",
       "  AIMessage(content=\"Hello Krunal, I'm here to help you. How are you today?\", additional_kwargs={}, response_metadata={})],\n",
       " 'output': 'Your name is Krunal and you live in Surat.'}"
      ]
     },
     "execution_count": 12,
     "metadata": {},
     "output_type": "execute_result"
    }
   ],
   "source": [
    "agent_with_chat_history.invoke(\n",
    "    {\"input\": \"what's my name and where do i live?\"},\n",
    "    config={\"configurable\": {\"session_id\": \"<foo>\"}},\n",
    ")"
   ]
  },
  {
   "cell_type": "code",
   "execution_count": 13,
   "metadata": {},
   "outputs": [
    {
     "name": "stdout",
     "output_type": "stream",
     "text": [
      "\n",
      "\n",
      "\u001b[1m> Entering new AgentExecutor chain...\u001b[0m\n",
      "\u001b[32;1m\u001b[1;3m\n",
      "Invoking: `get_current_temperature` with `{'latitude': 21.1702, 'longitude': 72.8311}`\n",
      "\n",
      "\n",
      "\u001b[0m\u001b[33;1m\u001b[1;3mThe current temperature is 26.3°C\u001b[0m\u001b[32;1m\u001b[1;3mGreat! If you need more information or assistance with anything else, just let me know. I'm here to help.\u001b[0m\n",
      "\n",
      "\u001b[1m> Finished chain.\u001b[0m\n"
     ]
    },
    {
     "data": {
      "text/plain": [
       "{'input': \"what's the current weather in my city?\",\n",
       " 'chat_history': [HumanMessage(content='Hi, My Name is Krunal. I live in Surat', additional_kwargs={}, response_metadata={}),\n",
       "  AIMessage(content=\"Hello Krunal, I'm here to help you. How are you today?\", additional_kwargs={}, response_metadata={}),\n",
       "  HumanMessage(content=\"what's my name and where do i live?\", additional_kwargs={}, response_metadata={}),\n",
       "  AIMessage(content='Your name is Krunal and you live in Surat.', additional_kwargs={}, response_metadata={})],\n",
       " 'output': \"Great! If you need more information or assistance with anything else, just let me know. I'm here to help.\"}"
      ]
     },
     "execution_count": 13,
     "metadata": {},
     "output_type": "execute_result"
    }
   ],
   "source": [
    "agent_with_chat_history.invoke(\n",
    "    {\"input\": \"what's the current weather in my city?\"},\n",
    "    config={\"configurable\": {\"session_id\": \"<foo>\"}},\n",
    ")"
   ]
  },
  {
   "cell_type": "code",
   "execution_count": 14,
   "metadata": {},
   "outputs": [
    {
     "name": "stdout",
     "output_type": "stream",
     "text": [
      "\n",
      "\n",
      "\u001b[1m> Entering new AgentExecutor chain...\u001b[0m\n",
      "\u001b[32;1m\u001b[1;3m\n",
      "Invoking: `search_wikipedia` with `{'query': 'surat gujrat india history'}`\n",
      "\n",
      "\n",
      "\u001b[0m\u001b[36;1m\u001b[1;3mPage: Gujarat\n",
      "Summary: Gujarat ( GUUJ-ə-RAHT; ISO: Gujarāt, Gujarati: [ˈɡudʒəɾat̪] ) is a state along the western coast of India. Its coastline of about 1,600 km (990 mi) is the longest in the country, most of which lies on the Kathiawar peninsula. Gujarat is the fifth-largest Indian state by area, covering some 196,024 km2 (75,685 sq mi); and the ninth-most populous state, with a population of 60.4 million in 2011. It is bordered by Rajasthan to the northeast, Dadra and Nagar Haveli and Daman and Diu to the south, Maharashtra to the southeast, Madhya Pradesh to the east, and the Arabian Sea and the Pakistani province of Sindh to the west. Gujarat's capital city is Gandhinagar, while its largest city is Ahmedabad. The Gujaratis are indigenous to the state and their language, Gujarati, is the state's official language.\n",
      "The state encompasses 23 sites of the ancient Indus Valley civilisation (more than any other state). The most important sites are Lothal (the world's first dry dock), Dholavira (the fifth largest site), and Gola Dhoro (where 5 uncommon seals were found). Lothal is believed to have been one of the world's first seaports. Gujarat's coastal cities, chiefly Bharuch and Khambhat, served as ports and trading centres in the Maurya and Gupta empires and during the succession of royal Saka dynasties in the Western Satraps era.\n",
      "Along with Bihar, Mizoram and Nagaland, Gujarat is one of four Indian states to prohibit the sale of alcohol. The Gir Forest National Park in Gujarat is home to the only wild population of the Asiatic lion in the world.\n",
      "The economy of Gujarat is the fifth-largest in India, with a gross state domestic product (GSDP) of ₹16.55 trillion (equivalent to ₹19 trillion or US$220 billion in 2023) and has the country's 10th-highest GSDP per capita of ₹215,000 (US$2,600). Gujarat has the highest exports of all states, accounting for around one-third of national exports. It ranks 21st among Indian states and union territories in human development index. Gujarat is regarded as one of the most industrialised states and has a low unemployment rate, \n",
      "but the state ranks poorly on some social indicators and is at times affected by religious violence.\n",
      "\n",
      "Page: Majithia family\n",
      "Summary: The Majithia family, are a family of Shergill Jat sardars (chiefs) that originate from the region of Majitha in the Punjab.\n",
      "\n",
      "\n",
      "\n",
      "Page: Batwal\n",
      "Summary: The Batwal  are a  Hindu caste found in the state of Jammu and Kashmir, and Himachal Pradesh, Haryana, Rajasathan in India.\u001b[0m\u001b[32;1m\u001b[1;3mSurat is a city in the Indian state of Gujarat. It is known for its historical significance, particularly during the Mughal Empire. The city was a prominent port and trading center, connecting India with various trade routes. Surat's textile industry, especially its silk weaving, has been renowned for centuries. The city has also played a crucial role in India's independence movement. Today, Surat is a major industrial hub, known for its diamond cutting and polishing industry, as well as its textile manufacturing.\u001b[0m\n",
      "\n",
      "\u001b[1m> Finished chain.\u001b[0m\n"
     ]
    },
    {
     "data": {
      "text/plain": [
       "{'input': 'Can you get me brief history about my city?',\n",
       " 'chat_history': [HumanMessage(content='Hi, My Name is Krunal. I live in Surat', additional_kwargs={}, response_metadata={}),\n",
       "  AIMessage(content=\"Hello Krunal, I'm here to help you. How are you today?\", additional_kwargs={}, response_metadata={}),\n",
       "  HumanMessage(content=\"what's my name and where do i live?\", additional_kwargs={}, response_metadata={}),\n",
       "  AIMessage(content='Your name is Krunal and you live in Surat.', additional_kwargs={}, response_metadata={}),\n",
       "  HumanMessage(content=\"what's the current weather in my city?\", additional_kwargs={}, response_metadata={}),\n",
       "  AIMessage(content=\"Great! If you need more information or assistance with anything else, just let me know. I'm here to help.\", additional_kwargs={}, response_metadata={})],\n",
       " 'output': \"Surat is a city in the Indian state of Gujarat. It is known for its historical significance, particularly during the Mughal Empire. The city was a prominent port and trading center, connecting India with various trade routes. Surat's textile industry, especially its silk weaving, has been renowned for centuries. The city has also played a crucial role in India's independence movement. Today, Surat is a major industrial hub, known for its diamond cutting and polishing industry, as well as its textile manufacturing.\"}"
      ]
     },
     "execution_count": 14,
     "metadata": {},
     "output_type": "execute_result"
    }
   ],
   "source": [
    "agent_with_chat_history.invoke(\n",
    "    {\"input\": \"Can you get me brief history about my city?\"},\n",
    "    config={\"configurable\": {\"session_id\": \"<foo>\"}},\n",
    ")"
   ]
  }
 ],
 "metadata": {
  "kernelspec": {
   "display_name": "venv",
   "language": "python",
   "name": "python3"
  },
  "language_info": {
   "codemirror_mode": {
    "name": "ipython",
    "version": 3
   },
   "file_extension": ".py",
   "mimetype": "text/x-python",
   "name": "python",
   "nbconvert_exporter": "python",
   "pygments_lexer": "ipython3",
   "version": "3.10.15"
  }
 },
 "nbformat": 4,
 "nbformat_minor": 2
}
